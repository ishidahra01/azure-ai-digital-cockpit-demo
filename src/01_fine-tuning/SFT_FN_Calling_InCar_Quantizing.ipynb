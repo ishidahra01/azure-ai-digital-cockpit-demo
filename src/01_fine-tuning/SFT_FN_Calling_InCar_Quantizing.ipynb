{
 "cells": [
  {
   "cell_type": "markdown",
   "metadata": {},
   "source": [
    "# **Quantizing Phi Family using Generative AI extensions for onnxruntime**\n",
    "\n",
    "## **What's Generative AI extensions for onnxruntime**\n",
    "\n",
    "This extensions help you to run generatice AI with ONNX Runtime( [https://github.com/microsoft/onnxruntime-genai](https://github.com/microsoft/onnxruntime-genai)). It provides the generative AI loop for ONNX models, including inference with ONNX Runtime, logits processing, search and sampling, and KV cache management. Developers can call a high level generate() method, or run each iteration of the model in a loop, generating one token at a time, and optionally updating generation parameters inside the loop.It has support for greedy/beam search and TopP, TopK sampling to generate token sequences and built-in logits processing like repetition penalties. You can also easily add custom scoring.\n",
    "\n",
    "At the application level, you can use Generative AI extensions for onnxruntime to build applications using C++/ C# / Python. At the model level, you can use it to merge fine-tuned models and do related quantitative deployment work.\n",
    "\n",
    "\n",
    "## **Quantizing Phi-3.5 with Generative AI extensions for onnxruntime**\n",
    "\n",
    "### **Support Models**\n",
    "\n",
    "Generative AI extensions for onnxruntime support quantization conversion of Microsoft Phi , Google Gemma, Mistral, Meta LLaMA。\n",
    "\n",
    "\n",
    "### **Model Builder in Generative AI extensions for onnxruntime**\n",
    "\n",
    "The model builder greatly accelerates creating optimized and quantized ONNX models that run with the ONNX Runtime generate() API.\n",
    "\n",
    "Through Model Builder, you can quantize the model to INT4, INT8, FP16, FP32, and combine different hardware acceleration methods such as CPU, CUDA, DirectML, Mobile, etc.\n",
    "\n",
    "To use Model Builder you need to install"
   ]
  },
  {
   "cell_type": "markdown",
   "metadata": {},
   "source": [
    "## Using Olive"
   ]
  },
  {
   "cell_type": "code",
   "execution_count": 16,
   "metadata": {},
   "outputs": [
    {
     "name": "stdout",
     "output_type": "stream",
     "text": [
      "Collecting git+https://github.com/microsoft/olive\n",
      "  Cloning https://github.com/microsoft/olive to /tmp/pip-req-build-1udp7mmr\n",
      "  Running command git clone --filter=blob:none --quiet https://github.com/microsoft/olive /tmp/pip-req-build-1udp7mmr\n",
      "  Resolved https://github.com/microsoft/olive to commit 0b6e5a27f651e5ab3081aa56d1fce801cedbd1f3\n",
      "  Installing build dependencies ... \u001b[?25ldone\n",
      "\u001b[?25h  Getting requirements to build wheel ... \u001b[?25ldone\n",
      "\u001b[?25h  Preparing metadata (pyproject.toml) ... \u001b[?25ldone\n",
      "\u001b[?25hRequirement already satisfied: numpy in /anaconda/envs/azureml_py310_sdkv2/lib/python3.10/site-packages (from olive-ai==0.8.0.dev0) (2.2.3)\n",
      "Requirement already satisfied: onnx in /anaconda/envs/azureml_py310_sdkv2/lib/python3.10/site-packages (from olive-ai==0.8.0.dev0) (1.17.0)\n",
      "Requirement already satisfied: onnxscript in /anaconda/envs/azureml_py310_sdkv2/lib/python3.10/site-packages (from olive-ai==0.8.0.dev0) (0.3.0.dev20250301)\n",
      "Requirement already satisfied: optuna in /anaconda/envs/azureml_py310_sdkv2/lib/python3.10/site-packages (from olive-ai==0.8.0.dev0) (4.2.1)\n",
      "Requirement already satisfied: pandas in /anaconda/envs/azureml_py310_sdkv2/lib/python3.10/site-packages (from olive-ai==0.8.0.dev0) (2.2.3)\n",
      "Requirement already satisfied: protobuf<4.0.0 in /anaconda/envs/azureml_py310_sdkv2/lib/python3.10/site-packages (from olive-ai==0.8.0.dev0) (3.20.3)\n",
      "Requirement already satisfied: pydantic in /anaconda/envs/azureml_py310_sdkv2/lib/python3.10/site-packages (from olive-ai==0.8.0.dev0) (2.10.6)\n",
      "Requirement already satisfied: pyyaml in /anaconda/envs/azureml_py310_sdkv2/lib/python3.10/site-packages (from olive-ai==0.8.0.dev0) (6.0.2)\n",
      "Requirement already satisfied: torch in /anaconda/envs/azureml_py310_sdkv2/lib/python3.10/site-packages (from olive-ai==0.8.0.dev0) (2.6.0)\n",
      "Requirement already satisfied: torchmetrics>=1.0.0 in /anaconda/envs/azureml_py310_sdkv2/lib/python3.10/site-packages (from olive-ai==0.8.0.dev0) (1.6.2)\n",
      "Requirement already satisfied: transformers in /anaconda/envs/azureml_py310_sdkv2/lib/python3.10/site-packages (from olive-ai==0.8.0.dev0) (4.49.0)\n",
      "Requirement already satisfied: packaging>17.1 in /anaconda/envs/azureml_py310_sdkv2/lib/python3.10/site-packages (from torchmetrics>=1.0.0->olive-ai==0.8.0.dev0) (24.1)\n",
      "Requirement already satisfied: lightning-utilities>=0.8.0 in /anaconda/envs/azureml_py310_sdkv2/lib/python3.10/site-packages (from torchmetrics>=1.0.0->olive-ai==0.8.0.dev0) (0.13.1)\n",
      "Requirement already satisfied: filelock in /anaconda/envs/azureml_py310_sdkv2/lib/python3.10/site-packages (from torch->olive-ai==0.8.0.dev0) (3.16.1)\n",
      "Requirement already satisfied: typing-extensions>=4.10.0 in /anaconda/envs/azureml_py310_sdkv2/lib/python3.10/site-packages (from torch->olive-ai==0.8.0.dev0) (4.12.2)\n",
      "Requirement already satisfied: networkx in /anaconda/envs/azureml_py310_sdkv2/lib/python3.10/site-packages (from torch->olive-ai==0.8.0.dev0) (3.3)\n",
      "Requirement already satisfied: jinja2 in /anaconda/envs/azureml_py310_sdkv2/lib/python3.10/site-packages (from torch->olive-ai==0.8.0.dev0) (3.1.5)\n",
      "Requirement already satisfied: fsspec in /anaconda/envs/azureml_py310_sdkv2/lib/python3.10/site-packages (from torch->olive-ai==0.8.0.dev0) (2023.10.0)\n",
      "Requirement already satisfied: nvidia-cuda-nvrtc-cu12==12.4.127 in /anaconda/envs/azureml_py310_sdkv2/lib/python3.10/site-packages (from torch->olive-ai==0.8.0.dev0) (12.4.127)\n",
      "Requirement already satisfied: nvidia-cuda-runtime-cu12==12.4.127 in /anaconda/envs/azureml_py310_sdkv2/lib/python3.10/site-packages (from torch->olive-ai==0.8.0.dev0) (12.4.127)\n",
      "Requirement already satisfied: nvidia-cuda-cupti-cu12==12.4.127 in /anaconda/envs/azureml_py310_sdkv2/lib/python3.10/site-packages (from torch->olive-ai==0.8.0.dev0) (12.4.127)\n",
      "Requirement already satisfied: nvidia-cudnn-cu12==9.1.0.70 in /anaconda/envs/azureml_py310_sdkv2/lib/python3.10/site-packages (from torch->olive-ai==0.8.0.dev0) (9.1.0.70)\n",
      "Requirement already satisfied: nvidia-cublas-cu12==12.4.5.8 in /anaconda/envs/azureml_py310_sdkv2/lib/python3.10/site-packages (from torch->olive-ai==0.8.0.dev0) (12.4.5.8)\n",
      "Requirement already satisfied: nvidia-cufft-cu12==11.2.1.3 in /anaconda/envs/azureml_py310_sdkv2/lib/python3.10/site-packages (from torch->olive-ai==0.8.0.dev0) (11.2.1.3)\n",
      "Requirement already satisfied: nvidia-curand-cu12==10.3.5.147 in /anaconda/envs/azureml_py310_sdkv2/lib/python3.10/site-packages (from torch->olive-ai==0.8.0.dev0) (10.3.5.147)\n",
      "Requirement already satisfied: nvidia-cusolver-cu12==11.6.1.9 in /anaconda/envs/azureml_py310_sdkv2/lib/python3.10/site-packages (from torch->olive-ai==0.8.0.dev0) (11.6.1.9)\n",
      "Requirement already satisfied: nvidia-cusparse-cu12==12.3.1.170 in /anaconda/envs/azureml_py310_sdkv2/lib/python3.10/site-packages (from torch->olive-ai==0.8.0.dev0) (12.3.1.170)\n",
      "Requirement already satisfied: nvidia-cusparselt-cu12==0.6.2 in /anaconda/envs/azureml_py310_sdkv2/lib/python3.10/site-packages (from torch->olive-ai==0.8.0.dev0) (0.6.2)\n",
      "Requirement already satisfied: nvidia-nccl-cu12==2.21.5 in /anaconda/envs/azureml_py310_sdkv2/lib/python3.10/site-packages (from torch->olive-ai==0.8.0.dev0) (2.21.5)\n",
      "Requirement already satisfied: nvidia-nvtx-cu12==12.4.127 in /anaconda/envs/azureml_py310_sdkv2/lib/python3.10/site-packages (from torch->olive-ai==0.8.0.dev0) (12.4.127)\n",
      "Requirement already satisfied: nvidia-nvjitlink-cu12==12.4.127 in /anaconda/envs/azureml_py310_sdkv2/lib/python3.10/site-packages (from torch->olive-ai==0.8.0.dev0) (12.4.127)\n",
      "Requirement already satisfied: triton==3.2.0 in /anaconda/envs/azureml_py310_sdkv2/lib/python3.10/site-packages (from torch->olive-ai==0.8.0.dev0) (3.2.0)\n",
      "Requirement already satisfied: sympy==1.13.1 in /anaconda/envs/azureml_py310_sdkv2/lib/python3.10/site-packages (from torch->olive-ai==0.8.0.dev0) (1.13.1)\n",
      "Requirement already satisfied: mpmath<1.4,>=1.1.0 in /anaconda/envs/azureml_py310_sdkv2/lib/python3.10/site-packages (from sympy==1.13.1->torch->olive-ai==0.8.0.dev0) (1.3.0)\n",
      "Requirement already satisfied: ml_dtypes in /anaconda/envs/azureml_py310_sdkv2/lib/python3.10/site-packages (from onnxscript->olive-ai==0.8.0.dev0) (0.5.1)\n",
      "Requirement already satisfied: alembic>=1.5.0 in /anaconda/envs/azureml_py310_sdkv2/lib/python3.10/site-packages (from optuna->olive-ai==0.8.0.dev0) (1.13.2)\n",
      "Requirement already satisfied: colorlog in /anaconda/envs/azureml_py310_sdkv2/lib/python3.10/site-packages (from optuna->olive-ai==0.8.0.dev0) (6.9.0)\n",
      "Requirement already satisfied: sqlalchemy>=1.4.2 in /anaconda/envs/azureml_py310_sdkv2/lib/python3.10/site-packages (from optuna->olive-ai==0.8.0.dev0) (2.0.35)\n",
      "Requirement already satisfied: tqdm in /anaconda/envs/azureml_py310_sdkv2/lib/python3.10/site-packages (from optuna->olive-ai==0.8.0.dev0) (4.66.5)\n",
      "Requirement already satisfied: python-dateutil>=2.8.2 in /anaconda/envs/azureml_py310_sdkv2/lib/python3.10/site-packages (from pandas->olive-ai==0.8.0.dev0) (2.9.0)\n",
      "Requirement already satisfied: pytz>=2020.1 in /anaconda/envs/azureml_py310_sdkv2/lib/python3.10/site-packages (from pandas->olive-ai==0.8.0.dev0) (2024.2)\n",
      "Requirement already satisfied: tzdata>=2022.7 in /anaconda/envs/azureml_py310_sdkv2/lib/python3.10/site-packages (from pandas->olive-ai==0.8.0.dev0) (2024.1)\n",
      "Requirement already satisfied: annotated-types>=0.6.0 in /anaconda/envs/azureml_py310_sdkv2/lib/python3.10/site-packages (from pydantic->olive-ai==0.8.0.dev0) (0.7.0)\n",
      "Requirement already satisfied: pydantic-core==2.27.2 in /anaconda/envs/azureml_py310_sdkv2/lib/python3.10/site-packages (from pydantic->olive-ai==0.8.0.dev0) (2.27.2)\n",
      "Requirement already satisfied: huggingface-hub<1.0,>=0.26.0 in /anaconda/envs/azureml_py310_sdkv2/lib/python3.10/site-packages (from transformers->olive-ai==0.8.0.dev0) (0.29.2)\n",
      "Requirement already satisfied: regex!=2019.12.17 in /anaconda/envs/azureml_py310_sdkv2/lib/python3.10/site-packages (from transformers->olive-ai==0.8.0.dev0) (2024.11.6)\n",
      "Requirement already satisfied: requests in /anaconda/envs/azureml_py310_sdkv2/lib/python3.10/site-packages (from transformers->olive-ai==0.8.0.dev0) (2.32.3)\n",
      "Requirement already satisfied: tokenizers<0.22,>=0.21 in /anaconda/envs/azureml_py310_sdkv2/lib/python3.10/site-packages (from transformers->olive-ai==0.8.0.dev0) (0.21.0)\n",
      "Requirement already satisfied: safetensors>=0.4.1 in /anaconda/envs/azureml_py310_sdkv2/lib/python3.10/site-packages (from transformers->olive-ai==0.8.0.dev0) (0.5.3)\n",
      "Requirement already satisfied: Mako in /anaconda/envs/azureml_py310_sdkv2/lib/python3.10/site-packages (from alembic>=1.5.0->optuna->olive-ai==0.8.0.dev0) (1.3.5)\n",
      "Requirement already satisfied: setuptools in /anaconda/envs/azureml_py310_sdkv2/lib/python3.10/site-packages (from lightning-utilities>=0.8.0->torchmetrics>=1.0.0->olive-ai==0.8.0.dev0) (75.1.0)\n",
      "Requirement already satisfied: six>=1.5 in /anaconda/envs/azureml_py310_sdkv2/lib/python3.10/site-packages (from python-dateutil>=2.8.2->pandas->olive-ai==0.8.0.dev0) (1.16.0)\n",
      "Requirement already satisfied: greenlet!=0.4.17 in /anaconda/envs/azureml_py310_sdkv2/lib/python3.10/site-packages (from sqlalchemy>=1.4.2->optuna->olive-ai==0.8.0.dev0) (3.1.1)\n",
      "Requirement already satisfied: MarkupSafe>=2.0 in /anaconda/envs/azureml_py310_sdkv2/lib/python3.10/site-packages (from jinja2->torch->olive-ai==0.8.0.dev0) (2.1.5)\n",
      "Requirement already satisfied: charset-normalizer<4,>=2 in /anaconda/envs/azureml_py310_sdkv2/lib/python3.10/site-packages (from requests->transformers->olive-ai==0.8.0.dev0) (3.3.2)\n",
      "Requirement already satisfied: idna<4,>=2.5 in /anaconda/envs/azureml_py310_sdkv2/lib/python3.10/site-packages (from requests->transformers->olive-ai==0.8.0.dev0) (3.10)\n",
      "Requirement already satisfied: urllib3<3,>=1.21.1 in /anaconda/envs/azureml_py310_sdkv2/lib/python3.10/site-packages (from requests->transformers->olive-ai==0.8.0.dev0) (2.2.3)\n",
      "Requirement already satisfied: certifi>=2017.4.17 in /anaconda/envs/azureml_py310_sdkv2/lib/python3.10/site-packages (from requests->transformers->olive-ai==0.8.0.dev0) (2024.8.30)\n"
     ]
    }
   ],
   "source": [
    "! /anaconda/envs/azureml_py310_sdkv2/bin/pip install git+https://github.com/microsoft/olive"
   ]
  },
  {
   "cell_type": "code",
   "execution_count": 17,
   "metadata": {},
   "outputs": [
    {
     "name": "stdout",
     "output_type": "stream",
     "text": [
      "Collecting onnxruntime-genai\n",
      "  Downloading onnxruntime_genai-0.6.0-cp310-cp310-manylinux_2_27_x86_64.manylinux_2_28_x86_64.whl.metadata (518 bytes)\n",
      "Requirement already satisfied: numpy>=1.21.6 in /anaconda/envs/azureml_py310_sdkv2/lib/python3.10/site-packages (from onnxruntime-genai) (2.2.3)\n",
      "Requirement already satisfied: onnxruntime>=1.20.1 in /anaconda/envs/azureml_py310_sdkv2/lib/python3.10/site-packages (from onnxruntime-genai) (1.20.1)\n",
      "Requirement already satisfied: coloredlogs in /anaconda/envs/azureml_py310_sdkv2/lib/python3.10/site-packages (from onnxruntime>=1.20.1->onnxruntime-genai) (15.0.1)\n",
      "Requirement already satisfied: flatbuffers in /anaconda/envs/azureml_py310_sdkv2/lib/python3.10/site-packages (from onnxruntime>=1.20.1->onnxruntime-genai) (25.2.10)\n",
      "Requirement already satisfied: packaging in /anaconda/envs/azureml_py310_sdkv2/lib/python3.10/site-packages (from onnxruntime>=1.20.1->onnxruntime-genai) (24.1)\n",
      "Requirement already satisfied: protobuf in /anaconda/envs/azureml_py310_sdkv2/lib/python3.10/site-packages (from onnxruntime>=1.20.1->onnxruntime-genai) (3.20.3)\n",
      "Requirement already satisfied: sympy in /anaconda/envs/azureml_py310_sdkv2/lib/python3.10/site-packages (from onnxruntime>=1.20.1->onnxruntime-genai) (1.13.1)\n",
      "Requirement already satisfied: humanfriendly>=9.1 in /anaconda/envs/azureml_py310_sdkv2/lib/python3.10/site-packages (from coloredlogs->onnxruntime>=1.20.1->onnxruntime-genai) (10.0)\n",
      "Requirement already satisfied: mpmath<1.4,>=1.1.0 in /anaconda/envs/azureml_py310_sdkv2/lib/python3.10/site-packages (from sympy->onnxruntime>=1.20.1->onnxruntime-genai) (1.3.0)\n",
      "Downloading onnxruntime_genai-0.6.0-cp310-cp310-manylinux_2_27_x86_64.manylinux_2_28_x86_64.whl (1.5 MB)\n",
      "\u001b[2K   \u001b[90m━━━━━━━━━━━━━━━━━━━━━━━━━━━━━━━━━━━━━━━━\u001b[0m \u001b[32m1.5/1.5 MB\u001b[0m \u001b[31m38.8 MB/s\u001b[0m eta \u001b[36m0:00:00\u001b[0m\n",
      "\u001b[?25hInstalling collected packages: onnxruntime-genai\n",
      "Successfully installed onnxruntime-genai-0.6.0\n"
     ]
    }
   ],
   "source": [
    "! /anaconda/envs/azureml_py310_sdkv2/bin/pip install onnxruntime-genai"
   ]
  },
  {
   "cell_type": "code",
   "execution_count": 18,
   "metadata": {},
   "outputs": [
    {
     "name": "stdout",
     "output_type": "stream",
     "text": [
      "Collecting optimum\n",
      "  Downloading optimum-1.24.0-py3-none-any.whl.metadata (21 kB)\n",
      "Requirement already satisfied: peft in /anaconda/envs/azureml_py310_sdkv2/lib/python3.10/site-packages (0.13.2)\n",
      "Requirement already satisfied: transformers>=4.29 in /anaconda/envs/azureml_py310_sdkv2/lib/python3.10/site-packages (from optimum) (4.49.0)\n",
      "Requirement already satisfied: torch>=1.11 in /anaconda/envs/azureml_py310_sdkv2/lib/python3.10/site-packages (from optimum) (2.6.0)\n",
      "Requirement already satisfied: packaging in /anaconda/envs/azureml_py310_sdkv2/lib/python3.10/site-packages (from optimum) (24.1)\n",
      "Requirement already satisfied: numpy in /anaconda/envs/azureml_py310_sdkv2/lib/python3.10/site-packages (from optimum) (2.2.3)\n",
      "Requirement already satisfied: huggingface-hub>=0.8.0 in /anaconda/envs/azureml_py310_sdkv2/lib/python3.10/site-packages (from optimum) (0.29.2)\n",
      "Requirement already satisfied: psutil in /anaconda/envs/azureml_py310_sdkv2/lib/python3.10/site-packages (from peft) (6.0.0)\n",
      "Requirement already satisfied: pyyaml in /anaconda/envs/azureml_py310_sdkv2/lib/python3.10/site-packages (from peft) (6.0.2)\n",
      "Requirement already satisfied: tqdm in /anaconda/envs/azureml_py310_sdkv2/lib/python3.10/site-packages (from peft) (4.66.5)\n",
      "Requirement already satisfied: accelerate>=0.21.0 in /anaconda/envs/azureml_py310_sdkv2/lib/python3.10/site-packages (from peft) (1.4.0)\n",
      "Requirement already satisfied: safetensors in /anaconda/envs/azureml_py310_sdkv2/lib/python3.10/site-packages (from peft) (0.5.3)\n",
      "Requirement already satisfied: filelock in /anaconda/envs/azureml_py310_sdkv2/lib/python3.10/site-packages (from huggingface-hub>=0.8.0->optimum) (3.16.1)\n",
      "Requirement already satisfied: fsspec>=2023.5.0 in /anaconda/envs/azureml_py310_sdkv2/lib/python3.10/site-packages (from huggingface-hub>=0.8.0->optimum) (2023.10.0)\n",
      "Requirement already satisfied: requests in /anaconda/envs/azureml_py310_sdkv2/lib/python3.10/site-packages (from huggingface-hub>=0.8.0->optimum) (2.32.3)\n",
      "Requirement already satisfied: typing-extensions>=3.7.4.3 in /anaconda/envs/azureml_py310_sdkv2/lib/python3.10/site-packages (from huggingface-hub>=0.8.0->optimum) (4.12.2)\n",
      "Requirement already satisfied: networkx in /anaconda/envs/azureml_py310_sdkv2/lib/python3.10/site-packages (from torch>=1.11->optimum) (3.3)\n",
      "Requirement already satisfied: jinja2 in /anaconda/envs/azureml_py310_sdkv2/lib/python3.10/site-packages (from torch>=1.11->optimum) (3.1.5)\n",
      "Requirement already satisfied: nvidia-cuda-nvrtc-cu12==12.4.127 in /anaconda/envs/azureml_py310_sdkv2/lib/python3.10/site-packages (from torch>=1.11->optimum) (12.4.127)\n",
      "Requirement already satisfied: nvidia-cuda-runtime-cu12==12.4.127 in /anaconda/envs/azureml_py310_sdkv2/lib/python3.10/site-packages (from torch>=1.11->optimum) (12.4.127)\n",
      "Requirement already satisfied: nvidia-cuda-cupti-cu12==12.4.127 in /anaconda/envs/azureml_py310_sdkv2/lib/python3.10/site-packages (from torch>=1.11->optimum) (12.4.127)\n",
      "Requirement already satisfied: nvidia-cudnn-cu12==9.1.0.70 in /anaconda/envs/azureml_py310_sdkv2/lib/python3.10/site-packages (from torch>=1.11->optimum) (9.1.0.70)\n",
      "Requirement already satisfied: nvidia-cublas-cu12==12.4.5.8 in /anaconda/envs/azureml_py310_sdkv2/lib/python3.10/site-packages (from torch>=1.11->optimum) (12.4.5.8)\n",
      "Requirement already satisfied: nvidia-cufft-cu12==11.2.1.3 in /anaconda/envs/azureml_py310_sdkv2/lib/python3.10/site-packages (from torch>=1.11->optimum) (11.2.1.3)\n",
      "Requirement already satisfied: nvidia-curand-cu12==10.3.5.147 in /anaconda/envs/azureml_py310_sdkv2/lib/python3.10/site-packages (from torch>=1.11->optimum) (10.3.5.147)\n",
      "Requirement already satisfied: nvidia-cusolver-cu12==11.6.1.9 in /anaconda/envs/azureml_py310_sdkv2/lib/python3.10/site-packages (from torch>=1.11->optimum) (11.6.1.9)\n",
      "Requirement already satisfied: nvidia-cusparse-cu12==12.3.1.170 in /anaconda/envs/azureml_py310_sdkv2/lib/python3.10/site-packages (from torch>=1.11->optimum) (12.3.1.170)\n",
      "Requirement already satisfied: nvidia-cusparselt-cu12==0.6.2 in /anaconda/envs/azureml_py310_sdkv2/lib/python3.10/site-packages (from torch>=1.11->optimum) (0.6.2)\n",
      "Requirement already satisfied: nvidia-nccl-cu12==2.21.5 in /anaconda/envs/azureml_py310_sdkv2/lib/python3.10/site-packages (from torch>=1.11->optimum) (2.21.5)\n",
      "Requirement already satisfied: nvidia-nvtx-cu12==12.4.127 in /anaconda/envs/azureml_py310_sdkv2/lib/python3.10/site-packages (from torch>=1.11->optimum) (12.4.127)\n",
      "Requirement already satisfied: nvidia-nvjitlink-cu12==12.4.127 in /anaconda/envs/azureml_py310_sdkv2/lib/python3.10/site-packages (from torch>=1.11->optimum) (12.4.127)\n",
      "Requirement already satisfied: triton==3.2.0 in /anaconda/envs/azureml_py310_sdkv2/lib/python3.10/site-packages (from torch>=1.11->optimum) (3.2.0)\n",
      "Requirement already satisfied: sympy==1.13.1 in /anaconda/envs/azureml_py310_sdkv2/lib/python3.10/site-packages (from torch>=1.11->optimum) (1.13.1)\n",
      "Requirement already satisfied: mpmath<1.4,>=1.1.0 in /anaconda/envs/azureml_py310_sdkv2/lib/python3.10/site-packages (from sympy==1.13.1->torch>=1.11->optimum) (1.3.0)\n",
      "Requirement already satisfied: regex!=2019.12.17 in /anaconda/envs/azureml_py310_sdkv2/lib/python3.10/site-packages (from transformers>=4.29->optimum) (2024.11.6)\n",
      "Requirement already satisfied: tokenizers<0.22,>=0.21 in /anaconda/envs/azureml_py310_sdkv2/lib/python3.10/site-packages (from transformers>=4.29->optimum) (0.21.0)\n",
      "Requirement already satisfied: MarkupSafe>=2.0 in /anaconda/envs/azureml_py310_sdkv2/lib/python3.10/site-packages (from jinja2->torch>=1.11->optimum) (2.1.5)\n",
      "Requirement already satisfied: charset-normalizer<4,>=2 in /anaconda/envs/azureml_py310_sdkv2/lib/python3.10/site-packages (from requests->huggingface-hub>=0.8.0->optimum) (3.3.2)\n",
      "Requirement already satisfied: idna<4,>=2.5 in /anaconda/envs/azureml_py310_sdkv2/lib/python3.10/site-packages (from requests->huggingface-hub>=0.8.0->optimum) (3.10)\n",
      "Requirement already satisfied: urllib3<3,>=1.21.1 in /anaconda/envs/azureml_py310_sdkv2/lib/python3.10/site-packages (from requests->huggingface-hub>=0.8.0->optimum) (2.2.3)\n",
      "Requirement already satisfied: certifi>=2017.4.17 in /anaconda/envs/azureml_py310_sdkv2/lib/python3.10/site-packages (from requests->huggingface-hub>=0.8.0->optimum) (2024.8.30)\n",
      "Downloading optimum-1.24.0-py3-none-any.whl (433 kB)\n",
      "Installing collected packages: optimum\n",
      "Successfully installed optimum-1.24.0\n"
     ]
    }
   ],
   "source": [
    "! /anaconda/envs/azureml_py310_sdkv2/bin/pip install optimum peft"
   ]
  },
  {
   "cell_type": "markdown",
   "metadata": {},
   "source": [
    "Run the following command\n",
    "\n",
    "```bash\n",
    "olive auto-opt -m \"microsoft/Phi-3.5-mini-instruct\" --adapter_path \"artifact_downloads/in-car-copilot-fn-model-0307/outputs\" -o \"onnx-model\" --device cpu --provider CPUExecutionProvider --trust_remote_code\n",
    "```"
   ]
  },
  {
   "cell_type": "markdown",
   "metadata": {},
   "source": [
    "Run fhe following command \n",
    "```bash\n",
    "olive convert-adapters --adapter_path <path to your fine-tuned adapter --output_path <path to .onnx_adapter location --dtype float32\n",
    "```"
   ]
  },
  {
   "cell_type": "code",
   "execution_count": null,
   "metadata": {},
   "outputs": [],
   "source": [
    "import onnxruntime_genai as og\n",
    "import numpy as np\n",
    "import argparse\n",
    "\n",
    "parser = argparse.ArgumentParser(description='Application to load and switch ONNX LoRA adapters')\n",
    "parser.add_argument('-m', '--model', type=str, help='The ONNX base model')\n",
    "parser.add_argument('-a', '--adapters', nargs='+', type=str, help='List of adapters in .onnx_adapters format')\n",
    "parser.add_argument('-t', '--template', type=str, help='The template with which to format the prompt')\n",
    "parser.add_argument('-s', '--system', type=str, help='The system prompt to pass to the model')\n",
    "parser.add_argument('-p', '--prompt', type=str, help='The user prompt to pass to the model')\n",
    "args = parser.parse_args()\n",
    "\n",
    "model = og.Model(args.model)\n",
    "if args.adapters:\n",
    "    adapters = og.Adapters(model)\n",
    "    for adapter in args.adapters:\n",
    "        adapters.load(adapter, adapter)\n",
    "\n",
    "tokenizer = og.Tokenizer(model)\n",
    "tokenizer_stream = tokenizer.create_stream()\n",
    "\n",
    "prompt = args.template.format(system=args.system, input=args.prompt)\n",
    "\n",
    "params = og.GeneratorParams(model)\n",
    "params.set_search_options(max_length=2048, past_present_share_buffer=False)\n",
    "# This input is generated for transformers versions > 4.45\n",
    "#params.set_model_input(\"onnx::Neg_67\", np.array(0, dtype=np.int64))\n",
    "params.input_ids = tokenizer.encode(prompt)\n",
    "\n",
    "generator = og.Generator(model, params)\n",
    "\n",
    "if args.adapters:\n",
    "   for adapter in args.adapters:\n",
    "      print(f\"[{adapter}]: {prompt}\")\n",
    "      generator.set_active_adapter(adapters, adapter)\n",
    "\n",
    "      while not generator.is_done():\n",
    "        generator.compute_logits()\n",
    "        generator.generate_next_token()\n",
    "\n",
    "        new_token = generator.get_next_tokens()[0]\n",
    "        print(tokenizer_stream.decode(new_token), end='', flush=True)\n",
    "else:\n",
    "    print(f\"[Base]: {prompt}\")\n",
    "\n",
    "    while not generator.is_done():\n",
    "       generator.compute_logits()\n",
    "       generator.generate_next_token()\n"
   ]
  }
 ],
 "metadata": {
  "kernelspec": {
   "display_name": "azureml_py310_sdkv2",
   "language": "python",
   "name": "python3"
  },
  "language_info": {
   "codemirror_mode": {
    "name": "ipython",
    "version": 3
   },
   "file_extension": ".py",
   "mimetype": "text/x-python",
   "name": "python",
   "nbconvert_exporter": "python",
   "pygments_lexer": "ipython3",
   "version": "3.10.14"
  }
 },
 "nbformat": 4,
 "nbformat_minor": 2
}
